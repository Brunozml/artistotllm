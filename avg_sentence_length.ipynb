{
  "nbformat": 4,
  "nbformat_minor": 0,
  "metadata": {
    "colab": {
      "provenance": [],
      "authorship_tag": "ABX9TyPNwkMoHfpGUwPEyub1H5Dp",
      "include_colab_link": true
    },
    "kernelspec": {
      "name": "python3",
      "display_name": "Python 3"
    },
    "language_info": {
      "name": "python"
    }
  },
  "cells": [
    {
      "cell_type": "markdown",
      "metadata": {
        "id": "view-in-github",
        "colab_type": "text"
      },
      "source": [
        "<a href=\"https://colab.research.google.com/github/Brunozml/artistotllm/blob/main/avg_sentence_length.ipynb\" target=\"_parent\"><img src=\"https://colab.research.google.com/assets/colab-badge.svg\" alt=\"Open In Colab\"/></a>"
      ]
    },
    {
      "cell_type": "code",
      "source": [
        "# prompt: take the previous code and only keep the sentence length. take out word and paragraph analysis\n",
        "\n",
        "import re\n",
        "import requests\n",
        "from typing import Dict, Tuple\n",
        "\n",
        "def calculate_average_sentence_length(text: str) -> Dict[str, float]:\n",
        "    \"\"\"Calculate average sentence length\"\"\"\n",
        "    # Clean and prepare text\n",
        "    text = text.strip()\n",
        "\n",
        "    # Sentence analysis\n",
        "    sentences = re.split(r'[.!?]+', text)\n",
        "    sentences = [s.strip() for s in sentences if s.strip()]\n",
        "    # Count words in each sentence\n",
        "    sentence_word_counts = [len(re.findall(r'\\b\\w+\\b', s)) for s in sentences]\n",
        "    avg_sentence_length = sum(sentence_word_counts) / len(sentences) if sentences else 0\n",
        "\n",
        "    return {\n",
        "        \"avg_sentence_length\": avg_sentence_length,\n",
        "        \"total_sentences\": len(sentences)\n",
        "    }\n",
        "\n",
        "def compare_sentence_lengths(text1: str, text2: str) -> Tuple[Dict, Dict, Dict]:\n",
        "    \"\"\"Compare average sentence lengths between two texts\"\"\"\n",
        "    stats1 = calculate_average_sentence_length(text1)\n",
        "    stats2 = calculate_average_sentence_length(text2)\n",
        "\n",
        "    # Calculate differences\n",
        "    differences = {\n",
        "        \"sentence_length_diff\": stats2[\"avg_sentence_length\"] - stats1[\"avg_sentence_length\"]\n",
        "    }\n",
        "\n",
        "    return stats1, stats2, differences\n",
        "\n",
        "def read_file(filepath):\n",
        "    \"\"\"Read text from a file (local or URL) and return its contents\"\"\"\n",
        "    if filepath.startswith('http://') or filepath.startswith('https://'):\n",
        "        try:\n",
        "            response = requests.get(filepath)\n",
        "            response.raise_for_status()\n",
        "            return response.text\n",
        "        except requests.exceptions.RequestException as e:\n",
        "            print(f\"Error fetching URL {filepath}: {e}\")\n",
        "            return None\n",
        "    else:\n",
        "        try:\n",
        "            with open(filepath, 'r') as f:\n",
        "                return f.read()\n",
        "        except FileNotFoundError:\n",
        "            print(f\"Error opening local file {filepath}: File not found\")\n",
        "            return None\n",
        "\n",
        "if __name__ == \"__main__\":\n",
        "    # File paths\n",
        "    data_path = 'https://raw.githubusercontent.com/Brunozml/artistotllm/main/data/raw/'\n",
        "    file1 = 'gpt_what_to_do.txt'\n",
        "    file2 = 'hypewrite_what_to_do.txt'\n",
        "\n",
        "    # Read files\n",
        "    text1 = read_file(data_path + file1)\n",
        "    text2 = read_file(data_path + file2)\n",
        "\n",
        "    if text1 is not None and text2 is not None:\n",
        "        # Compare texts\n",
        "        stats1, stats2, differences = compare_sentence_lengths(text1, text2)\n",
        "\n",
        "        # Print results\n",
        "        print(f\"Text 1: {file1}\")\n",
        "        print(f\"   Average sentence length: {stats1['avg_sentence_length']:.1f} words\")\n",
        "        print(f\"   Total sentences: {stats1['total_sentences']}\")\n",
        "\n",
        "        print(f\"\\n📄 Text 2: {file2}\")\n",
        "        print(f\"   Average sentence length: {stats2['avg_sentence_length']:.1f} words\")\n",
        "        print(f\"   Total sentences: {stats2['total_sentences']}\")\n",
        "\n",
        "        print(f\"\\n🔍 Differences (Text 2 - Text 1):\")\n",
        "        print(f\"   Sentence length: {differences['sentence_length_diff']:+.1f} words\")\n",
        "    else:\n",
        "        print(\"Failed to read one or both files\")\n"
      ],
      "metadata": {
        "colab": {
          "base_uri": "https://localhost:8080/"
        },
        "id": "l7y6SXIfs4y7",
        "outputId": "619292b2-933d-47ad-a76f-06f97c1fe64e"
      },
      "execution_count": 2,
      "outputs": [
        {
          "output_type": "stream",
          "name": "stdout",
          "text": [
            "📄 Text 1: gpt_what_to_do.txt\n",
            "   Average sentence length: 14.3 words\n",
            "   Total sentences: 19\n",
            "\n",
            "📄 Text 2: hypewrite_what_to_do.txt\n",
            "   Average sentence length: 10.6 words\n",
            "   Total sentences: 54\n",
            "\n",
            "🔍 Differences (Text 2 - Text 1):\n",
            "   Sentence length: -3.7 words\n"
          ]
        }
      ]
    },
    {
      "cell_type": "code",
      "source": [
        "\n",
        "text1_manual = \"What should one do? That may seem a strange question, but it's not meaningless or unanswerable. It's the sort of question kids ask before they learn not to ask big questions. I only came across it myself in the process of investigating something else. But once I did, I thought I should at least try to answer it.So what should one do? One should help people, and take care of the world. Those two are obvious. But is there anything else? When I ask that, the answer that pops up is Make good new things.I can't prove that one should do this, any more than I can prove that one should help people or take care of the world. We're talking about first principles here. But I can explain why this principle makes sense. The most impressive thing humans can do is to think. It may be the most impressive thing that can be done. And the best kind of thinking, or more precisely the best proof that one has thought well, is to make good new things.I mean new things in a very general sense. Newton's physics was a good new thing. Indeed, the first version of this principle was to have good new ideas. But that didn't seem general enough: it didn't include making art or music, for example, except insofar as they embody new ideas. And while they may embody new ideas, that's not all they embody, unless you stretch the word \\\"idea\\\" so uselessly thin that it includes everything that goes through your nervous system.Even for ideas that one has consciously, though, I prefer the phrasing \\\"make good new things.\\\" There are other ways to describe the best kind of thinking. To make discoveries, for example, or to understand something more deeply than others have. But how well do you understand something if you can't make a model of it, or write about it? Indeed, trying to express what you understand is not just a way to prove that you understand it, but a way to understand it better.Another reason I like this phrasing is that it biases us toward creation. It causes us to prefer the kind of ideas that are naturally seen as making things rather than, say, making critical observations about things other people have made. Those are ideas too, and sometimes valuable ones, but it's easy to trick oneself into believing they're more valuable than they are. Criticism seems sophisticated, and making new things often seems awkward, especially at first; and yet it's precisely those first steps that are most rare and valuable.Is newness essential? I think so. Obviously it's essential in science. If you copied a paper of someone else's and published it as your own, it would seem not merely unimpressive but dishonest. And it's similar in the arts. A copy of a good painting can be a pleasing thing, but it's not impressive in the way the original was. Which in turn implies it's not impressive to make\" #@param {type:\"string\"}\n",
        "text2_manual = \"copies of good things. It's not impressive to make a copy of a good novel, or a good song, or a good scientific discovery. The only thing that's impressive is to make something new, something that didn't exist before. And that's true not just in science and the arts, but in all areas of life. A new business, a new product, a new service - all of these are new things, and all of them require the same kind of thinking that makes good new things.\" #@param {type:\"string\"}\n",
        "\n",
        "if text1_manual and text2_manual:\n",
        "  # Compare texts\n",
        "  stats1, stats2, differences = compare_sentence_lengths(text1_manual, text2_manual)\n",
        "\n",
        "  # Print results\n",
        "  print(f\"Text 1 (Manual Input):\")\n",
        "  print(f\"   Average sentence length: {stats1['avg_sentence_length']:.1f} words\")\n",
        "  print(f\"   Total sentences: {stats1['total_sentences']}\")\n",
        "\n",
        "  print(f\"\\n📄 Text 2 (Manual Input):\")\n",
        "  print(f\"   Average sentence length: {stats2['avg_sentence_length']:.1f} words\")\n",
        "  print(f\"   Total sentences: {stats2['total_sentences']}\")\n",
        "\n",
        "  print(f\"\\n🔍 Differences (Text 2 - Text 1):\")\n",
        "  print(f\"   Sentence length: {differences['sentence_length_diff']:+.1f} words\")\n",
        "else:\n",
        "  print(\"Please enter text for both inputs to compare.\")"
      ],
      "metadata": {
        "colab": {
          "base_uri": "https://localhost:8080/"
        },
        "id": "3Dz6JaIJtZv7",
        "outputId": "80eaefd5-4659-4d30-e852-643b7a0b6b67"
      },
      "execution_count": 3,
      "outputs": [
        {
          "output_type": "stream",
          "name": "stdout",
          "text": [
            "Text 1 (Manual Input):\n",
            "   Average sentence length: 14.1 words\n",
            "   Total sentences: 37\n",
            "\n",
            "📄 Text 2 (Manual Input):\n",
            "   Average sentence length: 17.8 words\n",
            "   Total sentences: 5\n",
            "\n",
            "🔍 Differences (Text 2 - Text 1):\n",
            "   Sentence length: +3.7 words\n"
          ]
        }
      ]
    }
  ]
}