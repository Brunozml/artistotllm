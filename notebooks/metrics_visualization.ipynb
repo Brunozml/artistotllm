{
 "cells": [
  {
   "cell_type": "code",
   "execution_count": 1,
   "id": "a7161464-1ef7-42f1-b2ea-dfcc4bd5ac06",
   "metadata": {},
   "outputs": [],
   "source": [
    "import pandas as pd\n",
    "metrics = pd.read_excel(\"metrics_.xlsx\")"
   ]
  },
  {
   "cell_type": "code",
   "execution_count": 5,
   "id": "00766c2e-8579-4d40-99f3-5bcc2cbdf1e7",
   "metadata": {},
   "outputs": [
    {
     "data": {
      "text/plain": [
       "Author\n",
       "Paul Graham     161\n",
       "Robin Hanson    142\n",
       "Paul Krugman     52\n",
       "Mark_Twain       43\n",
       "Name: count, dtype: int64"
      ]
     },
     "execution_count": 5,
     "metadata": {},
     "output_type": "execute_result"
    }
   ],
   "source": [
    "metrics.Author.value_counts()"
   ]
  },
  {
   "cell_type": "code",
   "execution_count": 11,
   "id": "23511141-2bbc-4c2c-97f1-bdb55f01f11c",
   "metadata": {},
   "outputs": [],
   "source": [
    "Graham = metrics[metrics[\"Author\"] == \"Paul Graham\"]\n",
    "Hanson = metrics[metrics[\"Author\"] == \"Robin Hanson\"]\n",
    "Twain = metrics[metrics[\"Author\"] == \"Mark_Twain\"]\n",
    "Krugman = metrics[metrics[\"Author\"] == \"Paul Krugman\"]"
   ]
  },
  {
   "cell_type": "code",
   "execution_count": 27,
   "id": "6c7e1408-e8dd-43ba-ba4b-45a0e3ef66fe",
   "metadata": {},
   "outputs": [
    {
     "data": {
      "text/html": [
       "<div>\n",
       "<style scoped>\n",
       "    .dataframe tbody tr th:only-of-type {\n",
       "        vertical-align: middle;\n",
       "    }\n",
       "\n",
       "    .dataframe tbody tr th {\n",
       "        vertical-align: top;\n",
       "    }\n",
       "\n",
       "    .dataframe thead th {\n",
       "        text-align: right;\n",
       "    }\n",
       "</style>\n",
       "<table border=\"1\" class=\"dataframe\">\n",
       "  <thead>\n",
       "    <tr style=\"text-align: right;\">\n",
       "      <th></th>\n",
       "      <th>Text_Similarity_baseline</th>\n",
       "      <th>POS_Similarity_baseline</th>\n",
       "      <th>Sentence_Length_Similarity_baseline</th>\n",
       "      <th>TF-IDF_Similarity_Unigram_baseline</th>\n",
       "      <th>TF-IDF_Similarity_Bigram_baseline</th>\n",
       "      <th>TF-IDF_Similarity_Trigram_baseline</th>\n",
       "      <th>Transformer_Similarity_baseline</th>\n",
       "      <th>Stopwords_Similarity_baseline</th>\n",
       "      <th>Punctuation_Similarity_baseline</th>\n",
       "      <th>TTR_Similarity_baseline</th>\n",
       "    </tr>\n",
       "  </thead>\n",
       "  <tbody>\n",
       "    <tr>\n",
       "      <th>0</th>\n",
       "      <td>7.718</td>\n",
       "      <td>40.8159</td>\n",
       "      <td>29.2538</td>\n",
       "      <td>13.6595</td>\n",
       "      <td>2.0738</td>\n",
       "      <td>0.4508</td>\n",
       "      <td>19.7494</td>\n",
       "      <td>41.2053</td>\n",
       "      <td>38.3008</td>\n",
       "      <td>38.6088</td>\n",
       "    </tr>\n",
       "  </tbody>\n",
       "</table>\n",
       "</div>"
      ],
      "text/plain": [
       "   Text_Similarity_baseline  POS_Similarity_baseline  \\\n",
       "0                     7.718                  40.8159   \n",
       "\n",
       "   Sentence_Length_Similarity_baseline  TF-IDF_Similarity_Unigram_baseline  \\\n",
       "0                              29.2538                             13.6595   \n",
       "\n",
       "   TF-IDF_Similarity_Bigram_baseline  TF-IDF_Similarity_Trigram_baseline  \\\n",
       "0                             2.0738                              0.4508   \n",
       "\n",
       "   Transformer_Similarity_baseline  Stopwords_Similarity_baseline  \\\n",
       "0                          19.7494                        41.2053   \n",
       "\n",
       "   Punctuation_Similarity_baseline  TTR_Similarity_baseline  \n",
       "0                          38.3008                  38.6088  "
      ]
     },
     "execution_count": 27,
     "metadata": {},
     "output_type": "execute_result"
    }
   ],
   "source": [
    "baseline_df = Twain[[col for col in Twain.columns if \"baseline\" in col]]\n",
    "column_sums = baseline_df.sum()\n",
    "sums_df_base = pd.DataFrame([column_sums], columns=baseline_df.columns)\n",
    "sums_df_base"
   ]
  },
  {
   "cell_type": "code",
   "execution_count": 49,
   "id": "d82f7688-1f49-4763-87b7-fb041894feea",
   "metadata": {},
   "outputs": [
    {
     "data": {
      "text/html": [
       "<div>\n",
       "<style scoped>\n",
       "    .dataframe tbody tr th:only-of-type {\n",
       "        vertical-align: middle;\n",
       "    }\n",
       "\n",
       "    .dataframe tbody tr th {\n",
       "        vertical-align: top;\n",
       "    }\n",
       "\n",
       "    .dataframe thead th {\n",
       "        text-align: right;\n",
       "    }\n",
       "</style>\n",
       "<table border=\"1\" class=\"dataframe\">\n",
       "  <thead>\n",
       "    <tr style=\"text-align: right;\">\n",
       "      <th></th>\n",
       "      <th>Author</th>\n",
       "      <th>Text_Similarity_prediction</th>\n",
       "      <th>POS_Similarity_prediction</th>\n",
       "      <th>Sentence_Length_Similarity_prediction</th>\n",
       "      <th>TF-IDF_Similarity_Unigram_prediction</th>\n",
       "      <th>TF-IDF_Similarity_Bigram_prediction</th>\n",
       "      <th>TF-IDF_Similarity_Trigram_prediction</th>\n",
       "      <th>Transformer_Similarity_prediction</th>\n",
       "      <th>Stopwords_Similarity_prediction</th>\n",
       "      <th>Punctuation_Similarity_prediction</th>\n",
       "      <th>TTR_Similarity_prediction</th>\n",
       "    </tr>\n",
       "  </thead>\n",
       "  <tbody>\n",
       "    <tr>\n",
       "      <th>0</th>\n",
       "      <td>Twain</td>\n",
       "      <td>6.2019</td>\n",
       "      <td>38.0782</td>\n",
       "      <td>28.4284</td>\n",
       "      <td>11.8169</td>\n",
       "      <td>2.2631</td>\n",
       "      <td>0.5447</td>\n",
       "      <td>17.7986</td>\n",
       "      <td>39.115</td>\n",
       "      <td>36.7174</td>\n",
       "      <td>19.9359</td>\n",
       "    </tr>\n",
       "  </tbody>\n",
       "</table>\n",
       "</div>"
      ],
      "text/plain": [
       "  Author  Text_Similarity_prediction  POS_Similarity_prediction  \\\n",
       "0  Twain                      6.2019                    38.0782   \n",
       "\n",
       "   Sentence_Length_Similarity_prediction  \\\n",
       "0                                28.4284   \n",
       "\n",
       "   TF-IDF_Similarity_Unigram_prediction  TF-IDF_Similarity_Bigram_prediction  \\\n",
       "0                               11.8169                               2.2631   \n",
       "\n",
       "   TF-IDF_Similarity_Trigram_prediction  Transformer_Similarity_prediction  \\\n",
       "0                                0.5447                            17.7986   \n",
       "\n",
       "   Stopwords_Similarity_prediction  Punctuation_Similarity_prediction  \\\n",
       "0                           39.115                            36.7174   \n",
       "\n",
       "   TTR_Similarity_prediction  \n",
       "0                    19.9359  "
      ]
     },
     "execution_count": 49,
     "metadata": {},
     "output_type": "execute_result"
    }
   ],
   "source": [
    "prediction_df = Twain[[col for col in Twain.columns if \"prediction\" in col]]\n",
    "column_sums = prediction_df.sum()\n",
    "sums_df_pred = pd.DataFrame([column_sums], columns=prediction_df.columns)\n",
    "sums_df_pred[\"Author\"] = \"Twain\"\n",
    "new_cols = [\"Author\"] + list(sums_df_pred.columns[:-1])\n",
    "sums_df_pred = sums_df_pred[new_cols]\n",
    "sums_df_pred"
   ]
  },
  {
   "cell_type": "code",
   "execution_count": 67,
   "id": "8a02f6ad-0744-4330-9817-b3e7823e7fb8",
   "metadata": {},
   "outputs": [],
   "source": [
    "def filterings_(auth, variable, author):\n",
    "    df = auth[[col for col in auth.columns if variable in col]]\n",
    "    column_sums = df.sum()\n",
    "    sums_df = pd.DataFrame([column_sums], columns=df.columns)\n",
    "    sums_df[\"Author\"] = author\n",
    "    new_cols = [\"Author\"] + list(df.columns)  # Use df.columns instead\n",
    "    sums_df = sums_df[new_cols]\n",
    "    return sums_df"
   ]
  },
  {
   "cell_type": "code",
   "execution_count": 75,
   "id": "bc08377e-226a-4618-af66-66ad338132f2",
   "metadata": {},
   "outputs": [],
   "source": [
    "predictions = filterings_(Twain, \"prediction\", \"Twain\")"
   ]
  },
  {
   "cell_type": "code",
   "execution_count": 119,
   "id": "93a12780-ccfe-4a28-82db-60640298d3c9",
   "metadata": {},
   "outputs": [],
   "source": [
    "predictions = filterings_(Twain, \"prediction\", \"Twain\")\n",
    "predictions = pd.concat([predictions, filterings_(Graham, \"prediction\", \"Graham\")], ignore_index=True)\n",
    "predictions = pd.concat([predictions, filterings_(Krugman, \"prediction\", \"Krugman\")], ignore_index=True)\n",
    "predictions = pd.concat([predictions, filterings_(Hanson, \"prediction\", \"Hanson\")], ignore_index=True)\n",
    "baselines = filterings_(Twain, \"baseline\", \"Twain\")\n",
    "baselines = pd.concat([baselines, filterings_(Graham, \"baseline\", \"Graham\")], ignore_index=True)\n",
    "baselines = pd.concat([baselines, filterings_(Krugman, \"baseline\", \"Krugman\")], ignore_index=True)\n",
    "baselines = pd.concat([baselines, filterings_(Hanson, \"baseline\", \"Hanson\")], ignore_index=True)"
   ]
  },
  {
   "cell_type": "code",
   "execution_count": 121,
   "id": "93973e43-6001-4dff-97aa-029084d092e0",
   "metadata": {},
   "outputs": [],
   "source": [
    "baselines['n-gram-mean'] = baselines[['TF-IDF_Similarity_Unigram_baseline', 'TF-IDF_Similarity_Bigram_baseline', 'TF-IDF_Similarity_Trigram_baseline']].mean(axis=1)\n",
    "baselines.drop(columns=['TF-IDF_Similarity_Unigram_baseline', 'TF-IDF_Similarity_Bigram_baseline','TF-IDF_Similarity_Trigram_baseline'], inplace=True)\n",
    "\n",
    "\n",
    "predictions['n-gram-mean'] = predictions[['TF-IDF_Similarity_Unigram_prediction', 'TF-IDF_Similarity_Bigram_prediction', 'TF-IDF_Similarity_Trigram_prediction']].mean(axis=1)\n",
    "predictions.drop(columns=['TF-IDF_Similarity_Unigram_prediction', 'TF-IDF_Similarity_Bigram_prediction','TF-IDF_Similarity_Trigram_prediction'], inplace=True)"
   ]
  },
  {
   "cell_type": "code",
   "execution_count": 123,
   "id": "65403857-6757-445f-9a4e-323dd06568cf",
   "metadata": {},
   "outputs": [
    {
     "data": {
      "text/html": [
       "<div>\n",
       "<style scoped>\n",
       "    .dataframe tbody tr th:only-of-type {\n",
       "        vertical-align: middle;\n",
       "    }\n",
       "\n",
       "    .dataframe tbody tr th {\n",
       "        vertical-align: top;\n",
       "    }\n",
       "\n",
       "    .dataframe thead th {\n",
       "        text-align: right;\n",
       "    }\n",
       "</style>\n",
       "<table border=\"1\" class=\"dataframe\">\n",
       "  <thead>\n",
       "    <tr style=\"text-align: right;\">\n",
       "      <th></th>\n",
       "      <th>Author</th>\n",
       "      <th>Text_Similarity_baseline</th>\n",
       "      <th>POS_Similarity_baseline</th>\n",
       "      <th>Sentence_Length_Similarity_baseline</th>\n",
       "      <th>Transformer_Similarity_baseline</th>\n",
       "      <th>Stopwords_Similarity_baseline</th>\n",
       "      <th>Punctuation_Similarity_baseline</th>\n",
       "      <th>TTR_Similarity_baseline</th>\n",
       "      <th>n-gram-mean</th>\n",
       "    </tr>\n",
       "  </thead>\n",
       "  <tbody>\n",
       "    <tr>\n",
       "      <th>0</th>\n",
       "      <td>Twain</td>\n",
       "      <td>7.7180</td>\n",
       "      <td>40.8159</td>\n",
       "      <td>29.2538</td>\n",
       "      <td>19.7494</td>\n",
       "      <td>41.2053</td>\n",
       "      <td>38.3008</td>\n",
       "      <td>38.6088</td>\n",
       "      <td>5.394700</td>\n",
       "    </tr>\n",
       "    <tr>\n",
       "      <th>1</th>\n",
       "      <td>Graham</td>\n",
       "      <td>44.2976</td>\n",
       "      <td>155.9092</td>\n",
       "      <td>143.1570</td>\n",
       "      <td>85.1204</td>\n",
       "      <td>157.1855</td>\n",
       "      <td>155.0472</td>\n",
       "      <td>147.8130</td>\n",
       "      <td>25.359200</td>\n",
       "    </tr>\n",
       "    <tr>\n",
       "      <th>2</th>\n",
       "      <td>Krugman</td>\n",
       "      <td>11.5039</td>\n",
       "      <td>50.7206</td>\n",
       "      <td>44.0323</td>\n",
       "      <td>24.0873</td>\n",
       "      <td>50.7090</td>\n",
       "      <td>50.5351</td>\n",
       "      <td>47.6223</td>\n",
       "      <td>6.758867</td>\n",
       "    </tr>\n",
       "    <tr>\n",
       "      <th>3</th>\n",
       "      <td>Hanson</td>\n",
       "      <td>34.3169</td>\n",
       "      <td>137.1637</td>\n",
       "      <td>120.5153</td>\n",
       "      <td>71.8428</td>\n",
       "      <td>136.9436</td>\n",
       "      <td>137.0851</td>\n",
       "      <td>129.0284</td>\n",
       "      <td>19.061067</td>\n",
       "    </tr>\n",
       "  </tbody>\n",
       "</table>\n",
       "</div>"
      ],
      "text/plain": [
       "    Author  Text_Similarity_baseline  POS_Similarity_baseline  \\\n",
       "0    Twain                    7.7180                  40.8159   \n",
       "1   Graham                   44.2976                 155.9092   \n",
       "2  Krugman                   11.5039                  50.7206   \n",
       "3   Hanson                   34.3169                 137.1637   \n",
       "\n",
       "   Sentence_Length_Similarity_baseline  Transformer_Similarity_baseline  \\\n",
       "0                              29.2538                          19.7494   \n",
       "1                             143.1570                          85.1204   \n",
       "2                              44.0323                          24.0873   \n",
       "3                             120.5153                          71.8428   \n",
       "\n",
       "   Stopwords_Similarity_baseline  Punctuation_Similarity_baseline  \\\n",
       "0                        41.2053                          38.3008   \n",
       "1                       157.1855                         155.0472   \n",
       "2                        50.7090                          50.5351   \n",
       "3                       136.9436                         137.0851   \n",
       "\n",
       "   TTR_Similarity_baseline  n-gram-mean  \n",
       "0                  38.6088     5.394700  \n",
       "1                 147.8130    25.359200  \n",
       "2                  47.6223     6.758867  \n",
       "3                 129.0284    19.061067  "
      ]
     },
     "execution_count": 123,
     "metadata": {},
     "output_type": "execute_result"
    }
   ],
   "source": [
    "baselines"
   ]
  },
  {
   "cell_type": "code",
   "execution_count": 125,
   "id": "ec161c6a-d851-441f-be37-ecd5c1de833a",
   "metadata": {},
   "outputs": [
    {
     "data": {
      "text/html": [
       "<div>\n",
       "<style scoped>\n",
       "    .dataframe tbody tr th:only-of-type {\n",
       "        vertical-align: middle;\n",
       "    }\n",
       "\n",
       "    .dataframe tbody tr th {\n",
       "        vertical-align: top;\n",
       "    }\n",
       "\n",
       "    .dataframe thead th {\n",
       "        text-align: right;\n",
       "    }\n",
       "</style>\n",
       "<table border=\"1\" class=\"dataframe\">\n",
       "  <thead>\n",
       "    <tr style=\"text-align: right;\">\n",
       "      <th></th>\n",
       "      <th>Author</th>\n",
       "      <th>Text_Similarity_prediction</th>\n",
       "      <th>POS_Similarity_prediction</th>\n",
       "      <th>Sentence_Length_Similarity_prediction</th>\n",
       "      <th>Transformer_Similarity_prediction</th>\n",
       "      <th>Stopwords_Similarity_prediction</th>\n",
       "      <th>Punctuation_Similarity_prediction</th>\n",
       "      <th>TTR_Similarity_prediction</th>\n",
       "      <th>n-gram-mean</th>\n",
       "    </tr>\n",
       "  </thead>\n",
       "  <tbody>\n",
       "    <tr>\n",
       "      <th>0</th>\n",
       "      <td>Twain</td>\n",
       "      <td>6.2019</td>\n",
       "      <td>38.0782</td>\n",
       "      <td>28.4284</td>\n",
       "      <td>17.7986</td>\n",
       "      <td>39.1150</td>\n",
       "      <td>36.7174</td>\n",
       "      <td>19.9359</td>\n",
       "      <td>4.874900</td>\n",
       "    </tr>\n",
       "    <tr>\n",
       "      <th>1</th>\n",
       "      <td>Graham</td>\n",
       "      <td>37.9046</td>\n",
       "      <td>148.5036</td>\n",
       "      <td>134.1038</td>\n",
       "      <td>87.2691</td>\n",
       "      <td>153.2900</td>\n",
       "      <td>150.7288</td>\n",
       "      <td>94.6509</td>\n",
       "      <td>24.841533</td>\n",
       "    </tr>\n",
       "    <tr>\n",
       "      <th>2</th>\n",
       "      <td>Krugman</td>\n",
       "      <td>9.4035</td>\n",
       "      <td>48.2064</td>\n",
       "      <td>38.7333</td>\n",
       "      <td>24.4606</td>\n",
       "      <td>49.4383</td>\n",
       "      <td>49.0011</td>\n",
       "      <td>27.5638</td>\n",
       "      <td>6.500200</td>\n",
       "    </tr>\n",
       "    <tr>\n",
       "      <th>3</th>\n",
       "      <td>Hanson</td>\n",
       "      <td>34.4501</td>\n",
       "      <td>130.3086</td>\n",
       "      <td>114.0197</td>\n",
       "      <td>76.7004</td>\n",
       "      <td>132.6400</td>\n",
       "      <td>133.5827</td>\n",
       "      <td>81.9363</td>\n",
       "      <td>20.283567</td>\n",
       "    </tr>\n",
       "  </tbody>\n",
       "</table>\n",
       "</div>"
      ],
      "text/plain": [
       "    Author  Text_Similarity_prediction  POS_Similarity_prediction  \\\n",
       "0    Twain                      6.2019                    38.0782   \n",
       "1   Graham                     37.9046                   148.5036   \n",
       "2  Krugman                      9.4035                    48.2064   \n",
       "3   Hanson                     34.4501                   130.3086   \n",
       "\n",
       "   Sentence_Length_Similarity_prediction  Transformer_Similarity_prediction  \\\n",
       "0                                28.4284                            17.7986   \n",
       "1                               134.1038                            87.2691   \n",
       "2                                38.7333                            24.4606   \n",
       "3                               114.0197                            76.7004   \n",
       "\n",
       "   Stopwords_Similarity_prediction  Punctuation_Similarity_prediction  \\\n",
       "0                          39.1150                            36.7174   \n",
       "1                         153.2900                           150.7288   \n",
       "2                          49.4383                            49.0011   \n",
       "3                         132.6400                           133.5827   \n",
       "\n",
       "   TTR_Similarity_prediction  n-gram-mean  \n",
       "0                    19.9359     4.874900  \n",
       "1                    94.6509    24.841533  \n",
       "2                    27.5638     6.500200  \n",
       "3                    81.9363    20.283567  "
      ]
     },
     "execution_count": 125,
     "metadata": {},
     "output_type": "execute_result"
    }
   ],
   "source": [
    "predictions"
   ]
  },
  {
   "cell_type": "code",
   "execution_count": 129,
   "id": "786cd3b8-1906-4b5a-ae98-79aa95448d28",
   "metadata": {},
   "outputs": [],
   "source": [
    "baselines['Overall_Score'] = (\n",
    "    0.1 * baselines['POS_Similarity_baseline'] +\n",
    "    0.1 * baselines['Sentence_Length_Similarity_baseline'] +\n",
    "    0.1 * baselines['Punctuation_Similarity_baseline'] +\n",
    "    0.1 * baselines['Stopwords_Similarity_baseline'] +\n",
    "    0.2 * baselines['TTR_Similarity_baseline'] +\n",
    "    0.2 * baselines['Transformer_Similarity_baseline'] +\n",
    "    0.2 * baselines['n-gram-mean']\n",
    ")"
   ]
  },
  {
   "cell_type": "code",
   "execution_count": 133,
   "id": "ae46167b-99d9-4383-a687-5f58ca8d26a9",
   "metadata": {},
   "outputs": [],
   "source": [
    "predictions['Overall_Score'] = (\n",
    "    0.1 * predictions['POS_Similarity_prediction'] +\n",
    "    0.1 * predictions['Sentence_Length_Similarity_prediction'] +\n",
    "    0.1 * predictions['Punctuation_Similarity_prediction'] +\n",
    "    0.1 * predictions['Stopwords_Similarity_prediction'] +\n",
    "    0.2 * predictions['TTR_Similarity_prediction'] +\n",
    "    0.2 * predictions['Transformer_Similarity_prediction'] +\n",
    "    0.2 * predictions['n-gram-mean']\n",
    ")\n"
   ]
  },
  {
   "cell_type": "code",
   "execution_count": 137,
   "id": "994b79cf-7436-4c5c-ab90-cd5851c8959e",
   "metadata": {},
   "outputs": [],
   "source": [
    "combined_scores = pd.merge(\n",
    "    baselines[['Author', 'Overall_Score']].rename(columns={'Overall_Score': 'Baseline_Score'}),\n",
    "    predictions[['Author', 'Overall_Score']].rename(columns={'Overall_Score': 'Prediction_Score'}),\n",
    "    on='Author',\n",
    "    how='inner'  # or 'outer' if you want all authors from both\n",
    ")"
   ]
  },
  {
   "cell_type": "code",
   "execution_count": 159,
   "id": "a2c28f85-4aad-4508-bc06-167b7b5ce6f0",
   "metadata": {},
   "outputs": [
    {
     "data": {
      "text/html": [
       "<div>\n",
       "<style scoped>\n",
       "    .dataframe tbody tr th:only-of-type {\n",
       "        vertical-align: middle;\n",
       "    }\n",
       "\n",
       "    .dataframe tbody tr th {\n",
       "        vertical-align: top;\n",
       "    }\n",
       "\n",
       "    .dataframe thead th {\n",
       "        text-align: right;\n",
       "    }\n",
       "</style>\n",
       "<table border=\"1\" class=\"dataframe\">\n",
       "  <thead>\n",
       "    <tr style=\"text-align: right;\">\n",
       "      <th></th>\n",
       "      <th>Author</th>\n",
       "      <th>Baseline_Score</th>\n",
       "      <th>Prediction_Score</th>\n",
       "      <th>Author_Count</th>\n",
       "    </tr>\n",
       "  </thead>\n",
       "  <tbody>\n",
       "    <tr>\n",
       "      <th>0</th>\n",
       "      <td>Mark_Twain</td>\n",
       "      <td>0.014985</td>\n",
       "      <td>0.012307</td>\n",
       "      <td>43</td>\n",
       "    </tr>\n",
       "    <tr>\n",
       "      <th>1</th>\n",
       "      <td>Paul Graham</td>\n",
       "      <td>0.004351</td>\n",
       "      <td>0.003858</td>\n",
       "      <td>161</td>\n",
       "    </tr>\n",
       "    <tr>\n",
       "      <th>2</th>\n",
       "      <td>Paul Krugman</td>\n",
       "      <td>0.013052</td>\n",
       "      <td>0.011184</td>\n",
       "      <td>52</td>\n",
       "    </tr>\n",
       "    <tr>\n",
       "      <th>3</th>\n",
       "      <td>Robin Hanson</td>\n",
       "      <td>0.004818</td>\n",
       "      <td>0.004307</td>\n",
       "      <td>142</td>\n",
       "    </tr>\n",
       "  </tbody>\n",
       "</table>\n",
       "</div>"
      ],
      "text/plain": [
       "         Author  Baseline_Score  Prediction_Score  Author_Count\n",
       "0    Mark_Twain        0.014985          0.012307            43\n",
       "1   Paul Graham        0.004351          0.003858           161\n",
       "2  Paul Krugman        0.013052          0.011184            52\n",
       "3  Robin Hanson        0.004818          0.004307           142"
      ]
     },
     "execution_count": 159,
     "metadata": {},
     "output_type": "execute_result"
    }
   ],
   "source": [
    "combined_scores[\"Author\"] = [\"Mark_Twain\", \"Paul Graham\", \"Paul Krugman\", \"Robin Hanson\"]\n",
    "author_counts = metrics['Author'].value_counts()\n",
    "combined_scores['Author_Count'] = combined_scores['Author'].map(author_counts)\n",
    "combined_scores[\"Baseline_Score\"] = combined_scores[\"Baseline_Score\"] / combined_scores[\"Author_Count\"]\n",
    "combined_scores[\"Prediction_Score\"] = combined_scores[\"Prediction_Score\"] / combined_scores[\"Author_Count\"]\n",
    "combined_scores[\"Total\"] = combined_scores[\"Baseline_Score\"] - combined_scores[\"Prediction_Score\"]\n",
    "combined_scores"
   ]
  },
  {
   "cell_type": "markdown",
   "id": "6003d545",
   "metadata": {},
   "source": [
    "# Transformer similarity\n"
   ]
  },
  {
   "cell_type": "code",
   "execution_count": null,
   "id": "6a4dc927",
   "metadata": {},
   "outputs": [],
   "source": []
  },
  {
   "cell_type": "markdown",
   "id": "1d4489b5",
   "metadata": {},
   "source": [
    "# Plotting results"
   ]
  },
  {
   "cell_type": "code",
   "execution_count": 211,
   "id": "80a6c476-48f2-4e45-8fce-7e01d087c0f1",
   "metadata": {},
   "outputs": [
    {
     "data": {
      "image/png": "[encoded data removed]",
      "text/plain": [
       "<Figure size 1000x600 with 1 Axes>"
      ]
     },
     "metadata": {},
     "output_type": "display_data"
    }
   ],
   "source": [
    "import matplotlib.pyplot as plt\n",
    "\n",
    "# Sort the DataFrame by 'Total' in descending order\n",
    "sorted_scores = combined_scores.sort_values(by='Total', ascending=False)\n",
    "\n",
    "# Barplot for the 'Total' column by Author\n",
    "plt.figure(figsize=(10, 6))\n",
    "bars = plt.bar(sorted_scores['Author'], sorted_scores['Total'])\n",
    "\n",
    "plt.xlabel('Author')\n",
    "plt.ylabel('Total')\n",
    "plt.title('Total by Author')\n",
    "plt.xticks(rotation=0)\n",
    "\n",
    "# Add text labels on top of bars\n",
    "for bar in bars:\n",
    "    height = bar.get_height()\n",
    "    plt.text(\n",
    "        bar.get_x() + bar.get_width() / 2,\n",
    "        height,\n",
    "        f'{height:.5f}',\n",
    "        ha='center', va='bottom'\n",
    "    )\n",
    "\n",
    "plt.tight_layout()\n",
    "plt.show()\n"
   ]
  },
  {
   "cell_type": "code",
   "execution_count": 201,
   "id": "3a4bbe08-9466-4b3b-9b3f-d2da13e45a9c",
   "metadata": {},
   "outputs": [
    {
     "data": {
      "image/png": "[encoded data removed]",
      "text/plain": [
       "<Figure size 1000x600 with 1 Axes>"
      ]
     },
     "metadata": {},
     "output_type": "display_data"
    }
   ],
   "source": [
    "import matplotlib.pyplot as plt \n",
    "\n",
    "fig, ax = plt.subplots(figsize=(10, 6))\n",
    "x = range(len(combined_scores))\n",
    "bar_width = 0.35\n",
    "\n",
    "# Bars for Baseline and Prediction\n",
    "baseline_bars = ax.bar([i - bar_width/2 for i in x], combined_scores['Baseline_Score'], width=bar_width, label='Baseline Score')\n",
    "prediction_bars = ax.bar([i + bar_width/2 for i in x], combined_scores['Prediction_Score'], width=bar_width, label='Prediction Score')\n",
    "\n",
    "# Add score labels on top of each bar\n",
    "for i, bar in enumerate(baseline_bars):\n",
    "    height = bar.get_height()\n",
    "    ax.text(bar.get_x() + bar.get_width() / 2, height, f'{height:.4f}', ha='center', va='bottom')\n",
    "\n",
    "for i, bar in enumerate(prediction_bars):\n",
    "    height = bar.get_height()\n",
    "    ax.text(bar.get_x() + bar.get_width() / 2, height, f'{height:.4f}', ha='center', va='bottom')\n",
    "\n",
    "# Labels and title\n",
    "ax.set_xlabel('Author')\n",
    "ax.set_ylabel('Score')\n",
    "ax.set_title('Baseline vs Prediction Scores by Author')\n",
    "ax.set_xticks(x)\n",
    "ax.set_xticklabels(combined_scores['Author'], rotation=0)\n",
    "ax.legend()\n",
    "\n",
    "plt.tight_layout()\n",
    "plt.show()"
   ]
  },
  {
   "cell_type": "code",
   "execution_count": null,
   "id": "64c8280d-b729-42f0-bec8-bd6e54613cba",
   "metadata": {},
   "outputs": [],
   "source": []
  }
 ],
 "metadata": {
  "kernelspec": {
   "display_name": "Python [conda env:base] *",
   "language": "python",
   "name": "conda-base-py"
  },
  "language_info": {
   "codemirror_mode": {
    "name": "ipython",
    "version": 3
   },
   "file_extension": ".py",
   "mimetype": "text/x-python",
   "name": "python",
   "nbconvert_exporter": "python",
   "pygments_lexer": "ipython3",
   "version": "3.12.7"
  }
 },
 "nbformat": 4,
 "nbformat_minor": 5
}
