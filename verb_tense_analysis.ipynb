{
  "nbformat": 4,
  "nbformat_minor": 0,
  "metadata": {
    "colab": {
      "provenance": [],
      "authorship_tag": "ABX9TyNkZYXDisYKQMSEqTsctKMq",
      "include_colab_link": true
    },
    "kernelspec": {
      "name": "python3",
      "display_name": "Python 3"
    },
    "language_info": {
      "name": "python"
    }
  },
  "cells": [
    {
      "cell_type": "markdown",
      "metadata": {
        "id": "view-in-github",
        "colab_type": "text"
      },
      "source": [
        "<a href=\"https://colab.research.google.com/github/Brunozml/artistotllm/blob/main/verb_tense_analysis.ipynb\" target=\"_parent\"><img src=\"https://colab.research.google.com/assets/colab-badge.svg\" alt=\"Open In Colab\"/></a>"
      ]
    },
    {
      "cell_type": "code",
      "source": [
        "import nltk\n",
        "from typing import Dict, Tuple\n",
        "import requests\n",
        "\n",
        "# Download necessary NLTK data, including the missing 'punkt_tab'\n",
        "nltk.download('punkt', quiet=True)\n",
        "nltk.download('averaged_perceptron_tagger', quiet=True)\n",
        "nltk.download('punkt_tab', quiet=True) # This download was added in the initial cell, likely a typo\n",
        "nltk.download('averaged_perceptron_tagger_eng', quiet=True) # Download the specific English resource"
      ],
      "metadata": {
        "colab": {
          "base_uri": "https://localhost:8080/"
        },
        "id": "Xxps7XLpu5Qc",
        "outputId": "4688d763-3aef-4476-d8f9-aa8e7ed6a418"
      },
      "execution_count": 4,
      "outputs": [
        {
          "output_type": "execute_result",
          "data": {
            "text/plain": [
              "True"
            ]
          },
          "metadata": {},
          "execution_count": 4
        }
      ]
    },
    {
      "cell_type": "code",
      "execution_count": 5,
      "metadata": {
        "colab": {
          "base_uri": "https://localhost:8080/"
        },
        "id": "gh9ZL-Zuuk1m",
        "outputId": "48c84e09-d072-431d-cf94-ca9af6e5d7e4"
      },
      "outputs": [
        {
          "output_type": "stream",
          "name": "stdout",
          "text": [
            "\n",
            "Text 1 (gpt_what_to_do.txt) Verb Tenses: {'past': 2, 'present': 51, 'future': 0}\n",
            "Text 2 (hypewrite_what_to_do.txt) Verb Tenses: {'past': 24, 'present': 128, 'future': 1}\n",
            "\n",
            "🔍 Differences (Text 2 - Text 1): {'past': 22, 'present': 77, 'future': 1}\n"
          ]
        }
      ],
      "source": [
        "\n",
        "\n",
        "nltk.download('punkt', quiet=True)\n",
        "nltk.download('averaged_perceptron_tagger', quiet=True)\n",
        "\n",
        "def analyze_verb_tenses(text: str) -> Dict[str, int]:\n",
        "    \"\"\"Analyze verb tenses in the text.\"\"\"\n",
        "    words = nltk.word_tokenize(text)\n",
        "    tagged = nltk.pos_tag(words)\n",
        "\n",
        "    tenses = {\"past\": 0, \"present\": 0, \"future\": 0}\n",
        "    for i, (word, tag) in enumerate(tagged):\n",
        "        if tag in ('VBD', 'VBN'):\n",
        "            tenses[\"past\"] += 1\n",
        "        elif tag in ('VB', 'VBP', 'VBZ', 'VBG'):\n",
        "            tenses[\"present\"] += 1\n",
        "        elif word.lower() == 'will' and i + 1 < len(tagged) and tagged[i+1][1].startswith('VB'):\n",
        "            tenses[\"future\"] += 1\n",
        "    return tenses\n",
        "\n",
        "def compare_tenses(text1: str, text2: str) -> Tuple[Dict, Dict, Dict]:\n",
        "    \"\"\"Compare verb tense usage between two texts.\"\"\"\n",
        "    t1 = analyze_verb_tenses(text1)\n",
        "    t2 = analyze_verb_tenses(text2)\n",
        "    diff = {k: t2[k] - t1[k] for k in t1}\n",
        "    return t1, t2, diff\n",
        "\n",
        "def read_file(path: str):\n",
        "    \"\"\"Read file from local path or URL.\"\"\"\n",
        "    if path.startswith('http'):\n",
        "        try:\n",
        "            return requests.get(path).text\n",
        "        except:\n",
        "            return None\n",
        "    try:\n",
        "        with open(path, 'r') as f:\n",
        "            return f.read()\n",
        "    except:\n",
        "        return None\n",
        "\n",
        "if __name__ == \"__main__\":\n",
        "    url_base = 'https://raw.githubusercontent.com/Brunozml/artistotllm/main/data/raw/'\n",
        "    file1 = 'gpt_what_to_do.txt'\n",
        "    file2 = 'hypewrite_what_to_do.txt'\n",
        "\n",
        "    text1 = read_file(url_base + file1)\n",
        "    text2 = read_file(url_base + file2)\n",
        "\n",
        "    if text1 and text2:\n",
        "        t1, t2, diff = compare_tenses(text1, text2)\n",
        "        print(f\"\\nText 1 ({file1}) Verb Tenses: {t1}\")\n",
        "        print(f\"Text 2 ({file2}) Verb Tenses: {t2}\")\n",
        "        print(f\"\\n🔍 Differences (Text 2 - Text 1): {diff}\")\n",
        "    else:\n",
        "        print(\"Could not load one or both texts.\")\n"
      ]
    },
    {
      "cell_type": "code",
      "source": [
        "\n",
        "text1_input = \"\"\"\n",
        "What should one do? That may seem a strange question, but it's not meaningless or unanswerable. It's the sort of question kids ask before they learn not to ask big questions. I only came across it myself in the process of investigating something else. But once I did, I thought I should at least try to answer it.So what should one do? One should help people, and take care of the world. Those two are obvious. But is there anything else? When I ask that, the answer that pops up is Make good new things.I can't prove that one should do this, any more than I can prove that one should help people or take care of the world. We're talking about first principles here. But I can explain why this principle makes sense. The most impressive thing humans can do is to think. It may be the most impressive thing that can be done. And the best kind of thinking, or more precisely the best proof that one has thought well, is to make good new things.I mean new things in a very general sense. Newton's physics was a good new thing. Indeed, the first version of this principle was to have good new ideas. But that didn't seem general enough: it didn't include making art or music, for example, except insofar as they embody new ideas. And while they may embody new ideas, that's not all they embody, unless you stretch the word \"idea\" so uselessly thin that it includes everything that goes through your nervous system.Even for ideas that one has consciously, though, I prefer the phrasing \"make good new things.\" There are other ways to describe the best kind of thinking. To make discoveries, for example, or to understand something more deeply than others have. But how well do you understand something if you can't make a model of it, or write about it? Indeed, trying to express what you understand is not just a way to prove that you understand it, but a way to understand it better.Another reason I like this phrasing is that it biases us toward creation. It causes us to prefer the kind of ideas that are naturally seen as making things rather than, say, making critical observations about things other people have made. Those are ideas too, and sometimes valuable ones, but it's easy to trick oneself into believing they're more valuable than they are. Criticism seems sophisticated, and making new things often seems awkward, especially at first; and yet it's precisely those first steps that are most rare and valuable.Is newness essential? I think so. Obviously it's essential in science. If you copied a paper of someone else's and published it as your own, it would seem not merely unimpressive but dishonest. And it's similar in the arts. A copy of a good painting can be a pleasing thing, but it's not impressive in the way the original was. Which in turn implies it's not impressive to make\n",
        "\"\"\"\n",
        "\n",
        "text2_input = \"\"\"\n",
        "copies of good things. It's not impressive to make a copy of a good novel, or a good song, or a good scientific discovery. The only thing that's impressive is to make something new, something that didn't exist before. And that's true not just in science and the arts, but in all areas of life. A new business, a new product, a new service - all of these are new things, and all of them require the same kind of thinking that makes good new things.\n",
        "\n",
        "\"\"\"\n",
        "\n",
        "t1, t2, diff = compare_tenses(text1_input, text2_input)\n",
        "print(f\"\\nText 1 Verb Tenses: {t1}\")\n",
        "print(f\"Text 2 Verb Tenses: {t2}\")\n",
        "print(f\"\\n🔍 Differences (Text 2 - Text 1): {diff}\")\n"
      ],
      "metadata": {
        "colab": {
          "base_uri": "https://localhost:8080/"
        },
        "id": "wOA-BjKwvF_Z",
        "outputId": "4d61b055-5131-4464-d3ab-f510d16cfdb0"
      },
      "execution_count": 6,
      "outputs": [
        {
          "output_type": "stream",
          "name": "stdout",
          "text": [
            "\n",
            "Text 1 Verb Tenses: {'past': 14, 'present': 94, 'future': 0}\n",
            "Text 2 Verb Tenses: {'past': 1, 'present': 10, 'future': 0}\n",
            "\n",
            "🔍 Differences (Text 2 - Text 1): {'past': -13, 'present': -84, 'future': 0}\n"
          ]
        }
      ]
    }
  ]
}